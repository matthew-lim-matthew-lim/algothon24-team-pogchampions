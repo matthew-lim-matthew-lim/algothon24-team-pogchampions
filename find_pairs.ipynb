{
 "cells": [
  {
   "cell_type": "code",
   "execution_count": 17,
   "metadata": {},
   "outputs": [],
   "source": [
    "import numpy as np\n",
    "import pandas as pd\n",
    "from statsmodels.tsa.stattools import coint\n",
    "import matplotlib.pyplot as plt\n",
    "\n"
   ]
  },
  {
   "cell_type": "code",
   "execution_count": 18,
   "metadata": {},
   "outputs": [],
   "source": [
    "df = pd.read_csv('prices.txt', sep='\\s+', header=None)"
   ]
  },
  {
   "cell_type": "code",
   "execution_count": 19,
   "metadata": {},
   "outputs": [],
   "source": [
    "def find_cointegrated_pairs(data):\n",
    "    n = data.shape[1]\n",
    "    keys = data.columns\n",
    "    pairs = []\n",
    "\n",
    "    for i in range(n):\n",
    "        for j in range(i+1, n):\n",
    "            S1 = data.iloc[:, i]\n",
    "            S2 = data.iloc[:, j]\n",
    "            result = coint(S1, S2)\n",
    "            score = result[0]\n",
    "            pvalue = result[1]\n",
    "\n",
    "            if pvalue < 0.01:\n",
    "                pairs.append((keys[i], keys[j], pvalue))"
   ]
  },
  {
   "cell_type": "code",
   "execution_count": 20,
   "metadata": {},
   "outputs": [],
   "source": [
    "df = pd.read_csv('prices.txt', sep='\\s+', header=None)\n",
    "\n",
    "find_cointegrated_pairs(df)"
   ]
  },
  {
   "cell_type": "code",
   "execution_count": 21,
   "metadata": {},
   "outputs": [
    {
     "name": "stdout",
     "output_type": "stream",
     "text": [
      "Pair: 7 & 49, P-value: 0.0012064436131522954\n",
      "Pair: 7 & 24, P-value: 0.0015981915576907418\n",
      "Pair: 1 & 10, P-value: 0.0027241699105323078\n",
      "Pair: 20 & 34, P-value: 0.0035422318051808546\n",
      "Pair: 28 & 39, P-value: 0.004703702813263103\n",
      "Pair: 43 & 46, P-value: 0.005073191463362415\n",
      "Pair: 28 & 32, P-value: 0.006557791265859281\n",
      "Pair: 7 & 17, P-value: 0.008112075796594481\n",
      "Pair: 31 & 40, P-value: 0.008979147540014203\n",
      "Pair: 43 & 47, P-value: 0.009659430481229206\n",
      "Pair: 27 & 36, P-value: 0.009775168406716722\n"
     ]
    }
   ],
   "source": [
    "sorted_pairs = sorted(pairs, key=lambda x: x[2])\n",
    "\n",
    "for pair in sorted_pairs:\n",
    "    print(f\"Pair: {pair[0]} & {pair[1]}, P-value: {pair[2]}\")"
   ]
  }
 ],
 "metadata": {
  "kernelspec": {
   "display_name": "Python 3",
   "language": "python",
   "name": "python3"
  },
  "language_info": {
   "codemirror_mode": {
    "name": "ipython",
    "version": 3
   },
   "file_extension": ".py",
   "mimetype": "text/x-python",
   "name": "python",
   "nbconvert_exporter": "python",
   "pygments_lexer": "ipython3",
   "version": "3.10.12"
  }
 },
 "nbformat": 4,
 "nbformat_minor": 2
}
