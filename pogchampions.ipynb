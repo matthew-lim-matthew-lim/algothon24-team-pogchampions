{
 "cells": [
  {
   "cell_type": "code",
   "execution_count": null,
   "metadata": {},
   "outputs": [],
   "source": [
    "import numpy as np\n",
    "\n",
    "##### TODO #########################################\n",
    "### RENAME THIS FILE TO YOUR TEAM NAME #############\n",
    "### IMPLEMENT 'getMyPosition' FUNCTION #############\n",
    "### TO RUN, RUN 'eval.py' ##########################\n",
    "\n",
    "nInst = 50\n",
    "currentPos = np.zeros(nInst)"
   ]
  },
  {
   "cell_type": "code",
   "execution_count": null,
   "metadata": {},
   "outputs": [],
   "source": [
    "def getMyPosition(prcSoFar):\n",
    "    global currentPos\n",
    "    (nins, nt) = prcSoFar.shape\n",
    "    if (nt < 2):\n",
    "        return np.zeros(nins)\n",
    "    lastRet = np.log(prcSoFar[:, -1] / prcSoFar[:, -2])\n",
    "    lNorm = np.sqrt(lastRet.dot(lastRet))\n",
    "    lastRet /= lNorm\n",
    "    rpos = np.array([int(x) for x in 5000 * lastRet / prcSoFar[:, -1]])\n",
    "    currentPos = np.array([int(x) for x in currentPos+rpos])\n",
    "    return currentPos"
   ]
  }
 ],
 "metadata": {
  "language_info": {
   "name": "python"
  }
 },
 "nbformat": 4,
 "nbformat_minor": 2
}
